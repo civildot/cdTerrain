{
 "cells": [
  {
   "cell_type": "markdown",
   "metadata": {},
   "source": [
    "# Terrain\n",
    "\n",
    "> Create a TIN terrain from point height data"
   ]
  },
  {
   "cell_type": "code",
   "execution_count": null,
   "metadata": {},
   "outputs": [],
   "source": [
    "#| default_exp terrain"
   ]
  },
  {
   "cell_type": "code",
   "execution_count": null,
   "metadata": {},
   "outputs": [],
   "source": [
    "#| hide\n",
    "from pprint import pprint\n",
    "from nbdev.showdoc import *\n",
    "from fastcore.basics import patch"
   ]
  },
  {
   "cell_type": "code",
   "execution_count": null,
   "metadata": {},
   "outputs": [],
   "source": [
    "#| export\n",
    "import os.path\n",
    "import subprocess\n",
    "import math\n",
    "from collections import Counter\n",
    "\n",
    "import fiona\n",
    "from fiona import Geometry, Feature, Properties\n",
    "import numpy as np\n",
    "import matplotlib.tri as tri\n",
    "from matplotlib.pyplot import tricontour\n",
    "from shapely.geometry import Point, LineString, Polygon\n",
    "from shapely.geometry import mapping, shape\n",
    "from rtree import index\n",
    "from tqdm import tqdm\n",
    "\n",
    "from cdBoundary.boundary import ConcaveHull"
   ]
  },
  {
   "cell_type": "raw",
   "metadata": {},
   "source": [
    "pip install -e '.[dev]'"
   ]
  },
  {
   "cell_type": "code",
   "execution_count": null,
   "metadata": {},
   "outputs": [],
   "source": [
    "#| export\n",
    "class Terrain:\n",
    "\n",
    "    ''' Class representing a TIN terrain '''\n",
    "\n",
    "    def __init__(self, surface: str) -> None:\n",
    "\n",
    "        if surface[-5:] != '.gpkg':\n",
    "            self.surface = surface + '.gpkg'\n",
    "        else:\n",
    "            self.surface = surface\n",
    "\n",
    "        self.trianglebin = None\n",
    "        self.model = None\n",
    "        self.crs = None\n",
    "        create_pts_layer = False\n",
    "        file_exists = os.path.isfile(self.surface)\n",
    "        if file_exists:\n",
    "            layers = fiona.listlayers(self.surface)\n",
    "            if 'Points' not in layers:\n",
    "                create_pts_layer = True\n",
    "            else:\n",
    "                with fiona.open(self.surface, layer='Points') as source:\n",
    "                    self.crs = source.crs\n",
    "        \n",
    "        if not file_exists or create_pts_layer:\n",
    "            driver = 'GPKG'\n",
    "            schema = {'geometry': 'Point',\n",
    "                      'properties': {'No': 'int',\n",
    "                                     'X': 'float',\n",
    "                                     'Y': 'float',\n",
    "                                     'Elevation': 'float',\n",
    "                                     'Comment': 'str',\n",
    "                                     'Comment2': 'str',\n",
    "                                     'Contourable': 'int'}}\n",
    "            with fiona.open(self.surface, 'w', layer='Points', \n",
    "                            driver=driver, crs=self.crs, \n",
    "                            schema=schema) as sink:\n",
    "                pass\n",
    "        "
   ]
  },
  {
   "cell_type": "markdown",
   "metadata": {},
   "source": [
    "Method to load the survey points.\n",
    "\n",
    "'''\n",
    "\n",
    "Loads the points from a Fiona supported format.\n",
    "    \n",
    "            Parameters:\n",
    "                pointsfile (str)   : A Fiona supporte file format\n",
    "                in_layer (str)     : Layer (If applicable) where to points \n",
    "                                     are located in the file\n",
    "                z_field (str)      : The field in the attribute table\n",
    "                                     containing the elevation\n",
    "                tag (str)          : The field in the attribute table\n",
    "                                     containing the point comment\n",
    "                overwrite (bool)   : If `False` and there is existing points in the\n",
    "                                     layer the method will terminate. Set to\n",
    "                                     `True` to load the new points. If the crs of\n",
    "                                     the new points is None the old crs will be used\n",
    "                                     otherwise the crs will also be overwritten\n",
    "                use_z_coord (bool) : Use the z coordinate from the geometry to\n",
    "                                     obtain the elevation\n",
    "                tol (float)        : Any points closer than this value to\n",
    "                                     existing points will be loaded but will\n",
    "                                     be made non-contourable\n",
    "\n",
    "            Returns:\n",
    "                None       \n",
    "'''"
   ]
  },
  {
   "cell_type": "code",
   "execution_count": null,
   "metadata": {},
   "outputs": [],
   "source": [
    "#| export\n",
    "@patch\n",
    "def loadpoints(self:Terrain, pointsfile: str, layer: str=None,\n",
    "               z_field: str=None, tag: str='Comment', overwrite: bool=False,\n",
    "               use_z_coord: bool=False, tol: float=0.01) -> None:\n",
    "\n",
    "    ''' Loads the points from a Fiona supported format.\n",
    "    \n",
    "            Parameters:\n",
    "                pointsfile (str)   : A Fiona supporte file format\n",
    "                layer (str)        : Layer (If applicable) where to points \n",
    "                                     are located in the file\n",
    "                z_field (str)      : The field in the attribute table\n",
    "                                     containing the elevation\n",
    "                tag (str)          : The field in the attribute table\n",
    "                                     containing the point comment\n",
    "                overwrite (bool)   : If `False` and there is existing points in the\n",
    "                                     layer the method will terminate. Set to\n",
    "                                     `True` to load the new points. If the crs of\n",
    "                                     the new points is None the old crs will be used\n",
    "                                     otherwise the crs will also be overwritten\n",
    "                use_z_coord (bool) : Use the z coordinate from the geometry to\n",
    "                                     obtain the elevation\n",
    "                tol (float)        : Any points closer than this value to\n",
    "                                     existing points will be loaded but will\n",
    "                                     be made non-contourable\n",
    "\n",
    "            Returns:\n",
    "                None       \n",
    "    '''\n",
    "\n",
    "    # Todo: Specify a schema in the parameters for custom schemas\n",
    "    \n",
    "    with fiona.open(self.surface, layer='Points') as source:\n",
    "        if len(source) > 0 and overwrite is False:\n",
    "            raise Exception('''There is existing points in the layer.\n",
    "                               Please set `overwrite` to True to replace''')\n",
    "\n",
    "    # If `z_field` and/or `tag` has no match the program attempts to find one\n",
    "    with fiona.open(pointsfile, layer=layer) as source:\n",
    "        infields = list(source.schema['properties'].keys())\n",
    "        for feat in source:\n",
    "            geom = shape(feat.geometry)\n",
    "            hasz = geom.has_z\n",
    "            break\n",
    "    \n",
    "    z_options = ['z', 'elevation', 'height']\n",
    "    tag_options = ['comment', 'descriptio', 'description', 'note', 'tag']\n",
    "    if z_field is not None:\n",
    "        z_options.insert(0, z_field)\n",
    "    tag_options.insert(0, tag)\n",
    "\n",
    "    if z_field not in infields and use_z_coord is False:\n",
    "        for col in infields:\n",
    "            for item in z_options:\n",
    "                if col.casefold() == item:\n",
    "                    z_field = col\n",
    "                    break\n",
    "    if tag not in infields or tag is None:\n",
    "            for col in infields:\n",
    "                for item in tag_options:\n",
    "                    if col.casefold() == item:\n",
    "                        tag = col\n",
    "                        break\n",
    "\n",
    "    schema = {'geometry': 'Point',\n",
    "              'properties': {'No': 'int',\n",
    "                             'X': 'float',\n",
    "                             'Y': 'float',\n",
    "                             'Elevation': 'float',\n",
    "                             'Comment': 'str',\n",
    "                             'Comment2': 'str',\n",
    "                             'Contourable': 'bool'}}\n",
    "\n",
    "    ptdata = list()\n",
    "    print('Reading points ...')\n",
    "    print('Checking for duplicate points. `tol=', str(tol), '`', sep='')\n",
    "    with fiona.open(pointsfile, layer=layer) as source:\n",
    "        self.crs = source.crs\n",
    "        idx = index.Index()\n",
    "        for i, pt in enumerate(tqdm(source, bar_format='{l_bar}{bar:50}{r_bar}{bar:-50b}')):\n",
    "            point = shape(pt.geometry)\n",
    "            props = dict(pt.properties)\n",
    "            if z_field is not None:\n",
    "                z = float(props[z_field])\n",
    "            else:\n",
    "                z = point.z\n",
    "            pt3d = Point(point.x, point.y, z)\n",
    "            rec = dict()\n",
    "            rec['No'] = i+1\n",
    "            rec['X'] = round(point.x, 3)\n",
    "            rec['Y'] = round(point.y, 3)\n",
    "            rec['Elevation'] = round(z, 3)\n",
    "            rec['Comment'] = props[tag]\n",
    "            if 'Comment2' in infields:\n",
    "                rec['Comment2'] = str(props['Comment2'])\n",
    "            else:\n",
    "                rec['Comment2'] = None\n",
    "            if props[z_field] == -999 and z_field is not None:\n",
    "                rec['Contourable'] = False\n",
    "            else:\n",
    "                rec['Contourable'] = True\n",
    "            hits = list(idx.intersection(point.buffer(tol).bounds))\n",
    "            flag = True\n",
    "            for hit in hits:\n",
    "                point2 = shape(ptdata[hit].geometry)\n",
    "                if point.distance(point2) <= tol:\n",
    "                    rec['Contourable'] = False\n",
    "                    if rec['Comment2'] is None:\n",
    "                        rec['Comment2'] = 'Duplicate'\n",
    "                    flag = False\n",
    "                    break\n",
    "            feat = Feature(geometry = Geometry.from_dict(mapping(pt3d)), \n",
    "                           properties = Properties.from_dict(rec))\n",
    "            ptdata.append(feat)\n",
    "            if flag:\n",
    "                idx.insert(i, (point.bounds))\n",
    "\n",
    "    print()\n",
    "    print('Writing points to file ...')\n",
    "    with fiona.open(self.surface, 'w', layer='Points',\n",
    "                    crs=self.crs, driver='GPKG', schema=schema) as sink:\n",
    "        if len(ptdata) < 1000:\n",
    "            sink.writerecords(ptdata)\n",
    "        else:\n",
    "            batchdiv = 100\n",
    "            batches = self._chunks(ptdata, batchdiv)\n",
    "            for batch in tqdm(batches, total=batchdiv, \n",
    "                              bar_format='{l_bar}{bar:50}{r_bar}{bar:-50b}'):\n",
    "                sink.writerecords(batch)\n",
    "        \n",
    "    # Add a blank 'Breaklines' layer if 'Features' layer does not exist\n",
    "    if 'Breaklines' not in fiona.listlayers(self.surface):\n",
    "        \n",
    "        schema = {'geometry': 'LineString',\n",
    "                  'properties': {'Code': 'str',\n",
    "                                 'Name': 'str',\n",
    "                                 'Length': 'float',\n",
    "                                 'Vertices': 'int',\n",
    "                                 'Type': 'bool'}}\n",
    "        \n",
    "        with fiona.open(self.surface, 'w', layer='Breaklines', \n",
    "                        driver='GPKG', crs=self.crs, schema=schema) as sink:\n",
    "            pass\n",
    "            \n",
    "    print('Done.')"
   ]
  },
  {
   "cell_type": "code",
   "execution_count": null,
   "metadata": {},
   "outputs": [],
   "source": [
    "#| export\n",
    "@patch\n",
    "def add_breaklines(self:Terrain, file: str, layer: str=None, \n",
    "                   snap: bool=True, snaptol: float=0.05,\n",
    "                   append: bool=True) -> None:\n",
    "\n",
    "    ''' Using a Fiona supported file format of LineStrings to\n",
    "        load strings representing breaklines.\n",
    "    '''\n",
    "\n",
    "    points, idx = self._update_point_index()\n",
    "\n",
    "    schema = {'geometry': 'LineString',\n",
    "              'properties': {'Code': 'str',\n",
    "                             'Name': 'str',\n",
    "                             'Length': 'float',\n",
    "                             'Vertices': 'int',\n",
    "                             'Type': 'bool'}}\n",
    "\n",
    "    # Add the new features\n",
    "    # Todo: Handle MultilineStrings\n",
    "    blinedb = list()\n",
    "    with fiona.open(file, layer=layer) as source:\n",
    "        infields = list(source.schema['properties'].keys())\n",
    "        name = False\n",
    "        for i, field in enumerate(infields):\n",
    "            if field.lower() == 'name':\n",
    "                name = True\n",
    "                name_idx = i\n",
    "        for feat in source:\n",
    "            geom = shape(feat.geometry)\n",
    "            coords = list(geom.coords)\n",
    "            code = list()\n",
    "            for i, pt in enumerate(coords):\n",
    "                x, y = pt[0], pt[1]\n",
    "                currentpt = list(idx.nearest((x, y, x, y), 1))[0]\n",
    "                cprops = dict(points[currentpt].properties)\n",
    "                tag = points[currentpt]['properties']['Comment']\n",
    "                code.append(tag)\n",
    "            datatmp = Counter(code)\n",
    "            fcode = max(code, key=datatmp.get)\n",
    "            rec = dict()\n",
    "            rec['Code'] = fcode\n",
    "            props = dict(feat.properties)\n",
    "            if name:\n",
    "                rec['Name'] = props[infields[name_idx]]   \n",
    "            else:\n",
    "                rec['Name'] = None\n",
    "            rec['Length'] = round(geom.length, 3)\n",
    "            rec['Vertices'] = len(list(geom.coords))\n",
    "            rec['Type'] = 'Soft'\n",
    "            feature = Feature(geometry = feat.geometry, \n",
    "                              properties = Properties.from_dict(rec))\n",
    "            blinedb.append(feature)\n",
    "\n",
    "    if append:\n",
    "        mode = 'a'\n",
    "    else:\n",
    "        mode = 'w'\n",
    "\n",
    "    with fiona.open(self.surface, mode, layer='Breaklines',\n",
    "                    driver='GPKG', crs=self.crs, schema=schema) as sink:\n",
    "        sink.writerecords(blinedb)"
   ]
  },
  {
   "cell_type": "code",
   "execution_count": null,
   "metadata": {},
   "outputs": [],
   "source": [
    "#| export\n",
    "@patch\n",
    "def boundary(self:Terrain, tol: float=50) -> None:\n",
    "\n",
    "    '''\n",
    "    Calculates the concave hull of the points.\n",
    "    This is called \"join edge points\" in Highroad\n",
    "    terrain is the geospatial file containing the points\n",
    "    The \"tol\" is the length of the largest outside edge in your units\n",
    "    '''\n",
    "\n",
    "    ch = ConcaveHull()\n",
    "    points = list()\n",
    "    with fiona.open(self.surface, layer='Points') as source:\n",
    "        for feat in source:\n",
    "            props = dict(feat.properties)\n",
    "            if props['Contourable']:\n",
    "                geom = shape(feat.geometry)\n",
    "                x, y = geom.x, geom.y\n",
    "                z = props['Elevation']\n",
    "                points.append((x, y, z))\n",
    "\n",
    "    ch.loadpoints(points)\n",
    "    ch.calculatehull(tol=tol)\n",
    "\n",
    "    schema = {'geometry': 'Polygon', \n",
    "              'properties': {'Area': 'float',\n",
    "                             'Perimeter': 'float',\n",
    "                             'Vertices': 'int'}}\n",
    "    with fiona.open(self.surface, 'w', layer='Boundary',\n",
    "                    crs=self.crs, driver='GPKG', schema=schema) as sink:\n",
    "        props = dict()\n",
    "        props['Area'] = round(ch.hull.area, 3)\n",
    "        props['Perimeter'] = round(ch.hull.length, 3)\n",
    "        props['Vertices'] = len(list(ch.hull.exterior.coords))\n",
    "        feature = Feature(geometry = Geometry.from_dict(mapping(ch.hull)), \n",
    "                          properties = Properties.from_dict(props))\n",
    "        sink.write(feature)"
   ]
  },
  {
   "cell_type": "code",
   "execution_count": null,
   "metadata": {},
   "outputs": [],
   "source": [
    "#| export\n",
    "@patch\n",
    "def boundary_estimate(self:Terrain, perc: float=95) -> float:\n",
    "\n",
    "    ''' Gives an estimate of the val to be used in `tol` for `calculatehull`\n",
    "        to yeild a nice looking concave hull  \n",
    "\n",
    "            Parameters:  \n",
    "                perc (float) : Number between 0 and 100\n",
    "\n",
    "            Returns:  \n",
    "                (float) : Suggested value to use as `tol` in\n",
    "                          `calculatehull`\n",
    "    '''\n",
    "\n",
    "    ch = ConcaveHull()\n",
    "    points = list()\n",
    "    with fiona.open(self.surface, layer='Points') as source:\n",
    "        for feat in source:\n",
    "            props = dict(feat.properties)\n",
    "            if props['Contourable']:\n",
    "                geom = shape(feat.geometry)\n",
    "                x, y = geom.x, geom.y\n",
    "                z = props['Elevation']\n",
    "                points.append((x, y, z))\n",
    "\n",
    "    ch.loadpoints(points)\n",
    "    estimate = ch.estimate(perc=perc)\n",
    "\n",
    "    return estimate"
   ]
  },
  {
   "cell_type": "code",
   "execution_count": null,
   "metadata": {},
   "outputs": [],
   "source": [
    "#| export\n",
    "@patch\n",
    "def _generator_function(self:Terrain, geometries: list) -> tuple:\n",
    "    ''' rtree bulk loading '''\n",
    "    for i, geom in enumerate(geometries):\n",
    "        yield (i, (shape(geom.geometry).bounds), geom)"
   ]
  },
  {
   "cell_type": "code",
   "execution_count": null,
   "metadata": {},
   "outputs": [],
   "source": [
    "#| export\n",
    "@patch\n",
    "def _update_point_index(self:Terrain, ignore: bool=True) -> tuple:\n",
    "\n",
    "    with fiona.open(self.surface, layer='Points') as source:\n",
    "        points = list()\n",
    "        for pt in source:\n",
    "            props = dict(pt.properties)\n",
    "            if props['Contourable'] is False and ignore is True:\n",
    "                continue\n",
    "            points.append(pt)\n",
    "\n",
    "    ptidx = index.Index(self._generator_function(points))\n",
    "\n",
    "    return (points, ptidx)"
   ]
  },
  {
   "cell_type": "markdown",
   "metadata": {},
   "source": [
    "Got the *recipe* for dividing lists into chunks from [https://stackoverflow.com/questions/24483182/python-split-list-into-n-chunks](https://stackoverflow.com/questions/24483182/python-split-list-into-n-chunks)"
   ]
  },
  {
   "cell_type": "code",
   "execution_count": null,
   "metadata": {},
   "outputs": [],
   "source": [
    "#| export\n",
    "@patch\n",
    "def _chunks(self:Terrain, lst: list, n: int):\n",
    "    ''' Yield n number of sequential chunks from lst '''\n",
    "    d, r = divmod(len(lst), n)\n",
    "    for i in range(n):\n",
    "        si = (d+1)*(i if i < r else r) + d*(0 if i < r else i - r)\n",
    "        yield lst[si:si+(d+1 if i < r else d)]"
   ]
  },
  {
   "cell_type": "code",
   "execution_count": null,
   "metadata": {},
   "outputs": [],
   "source": [
    "def line2segments(curve):\n",
    "    return list(map(LineString, zip(curve.coords[:-1], curve.coords[1:])))\n",
    "    \n",
    "\n",
    "def geom2segments(geometry):\n",
    "\n",
    "    if geometry.geom_type == 'LineString' or geometry.geom_type == 'LinearRing':\n",
    "        return(line2segments(geometry))\n",
    "    elif geometry.geom_type == 'Polygon':\n",
    "        seglist = line2segments(LinearRing(list(geometry.exterior.coords)))\n",
    "        for interior in geometry.interiors:\n",
    "            poly = Polygon(interior)\n",
    "            seglist += line2segments(LinearRing(list(poly.exterior.coords)))\n",
    "        return seglist\n",
    "    # Todo: Implement Multipart geometries (Easy)"
   ]
  },
  {
   "cell_type": "markdown",
   "metadata": {},
   "source": [
    "**Todo**\n",
    "\n",
    "- ~~Concave Hull~~\n",
    "- ~~Hull estimate~~\n",
    "- ~~Optimise `loadpoints`. Use the `generator` function.~~ No speedup\n",
    "- Allow for option not to check for duplicates\n",
    "- Isolated function to check for duplicates afterwards\n",
    "- Layer Report\n",
    "    - No\n",
    "    - Layer name\n",
    "    - Feature Count\n",
    "- Snap and drape breaklines\n",
    "- Drape hard breaklines\n",
    "- Import hard breaklines\n",
    "- Merge lines\n",
    "- Split lines into segments\n",
    "- Layer Styles"
   ]
  },
  {
   "cell_type": "markdown",
   "metadata": {},
   "source": [
    "## Testing -------------------------"
   ]
  },
  {
   "cell_type": "code",
   "execution_count": null,
   "metadata": {},
   "outputs": [
    {
     "name": "stdout",
     "output_type": "stream",
     "text": [
      "Bambi.gpkg  Bluegum.gpkg  GIS\n"
     ]
    }
   ],
   "source": [
    "!ls ../../testing"
   ]
  },
  {
   "cell_type": "code",
   "execution_count": null,
   "metadata": {},
   "outputs": [
    {
     "name": "stdout",
     "output_type": "stream",
     "text": [
      "Reading points ...\n",
      "Checking for duplicate points. `tol=0.01`\n"
     ]
    },
    {
     "name": "stderr",
     "output_type": "stream",
     "text": [
      "100%|██████████████████████████████████████████████████| 234427/234427 [01:00<00:00, 3883.63it/s]                                                                                                                                                             \n"
     ]
    },
    {
     "name": "stdout",
     "output_type": "stream",
     "text": [
      "\n",
      "Writing points to file ...\n"
     ]
    },
    {
     "name": "stderr",
     "output_type": "stream",
     "text": [
      "100%|██████████████████████████████████████████████████| 100/100 [00:04<00:00, 24.11it/s]                                                                                                                                                                     \n"
     ]
    },
    {
     "name": "stdout",
     "output_type": "stream",
     "text": [
      "Done.\n"
     ]
    }
   ],
   "source": [
    "test2 = Terrain('../../testing/Bluegum')\n",
    "ptsource = '/home/andre/Documents/Jobs/Bluegum/Data/Terrain/bg_points_test.gpkg'\n",
    "test2.loadpoints(ptsource, layer='Points', overwrite=True)"
   ]
  },
  {
   "cell_type": "code",
   "execution_count": null,
   "metadata": {},
   "outputs": [
    {
     "name": "stdout",
     "output_type": "stream",
     "text": [
      "234427\n",
      "\n",
      "{'Comment': 'cloud',\n",
      " 'Comment2': '',\n",
      " 'Contourable': True,\n",
      " 'Elevation': 106.122,\n",
      " 'No': 1,\n",
      " 'X': -78872.428,\n",
      " 'Y': -3759904.426}\n"
     ]
    }
   ],
   "source": [
    "with fiona.open('../../testing/Bluegum.gpkg', layer='Points') as source:\n",
    "    print(len(source))\n",
    "    for feat in source:\n",
    "        props = dict(feat.properties)\n",
    "        print()\n",
    "        pprint(props)\n",
    "        break"
   ]
  },
  {
   "cell_type": "markdown",
   "metadata": {},
   "source": [
    "### Bambi Test Data"
   ]
  },
  {
   "cell_type": "code",
   "execution_count": null,
   "metadata": {},
   "outputs": [
    {
     "name": "stdout",
     "output_type": "stream",
     "text": [
      "Reading points ...\n",
      "Checking for duplicate points. `tol=0.001`\n"
     ]
    },
    {
     "name": "stderr",
     "output_type": "stream",
     "text": [
      "100%|██████████████████████████████████████████████████| 12770/12770 [00:03<00:00, 4102.31it/s]                                                                                                                                                               \n"
     ]
    },
    {
     "name": "stdout",
     "output_type": "stream",
     "text": [
      "\n",
      "Writing points to file ...\n"
     ]
    },
    {
     "name": "stderr",
     "output_type": "stream",
     "text": [
      "100%|██████████████████████████████████████████████████| 100/100 [00:00<00:00, 214.47it/s]                                                                                                                                                                    \n"
     ]
    },
    {
     "name": "stdout",
     "output_type": "stream",
     "text": [
      "Done.\n"
     ]
    }
   ],
   "source": [
    "bambi = Terrain('../../testing/Bambi')\n",
    "ptsource = '/home/andre/Documents/Jobs/1280 - Lydenburg/culvertdata/data/processed/surveypts1_mod.shp'\n",
    "bambi.loadpoints(ptsource, overwrite=True, z_field='Height', tol=0.001)"
   ]
  },
  {
   "cell_type": "code",
   "execution_count": null,
   "metadata": {},
   "outputs": [
    {
     "name": "stdout",
     "output_type": "stream",
     "text": [
      "CPU times: user 1.86 s, sys: 4.11 ms, total: 1.86 s\n",
      "Wall time: 1.88 s\n"
     ]
    }
   ],
   "source": [
    "%%time\n",
    "\n",
    "blines = '/home/andre/Documents/Jobs/1280 - Lydenburg/culvertdata/data/processed/Breakline Edges Edit.shp'\n",
    "bambi.add_breaklines(blines, append=False)"
   ]
  },
  {
   "cell_type": "code",
   "execution_count": null,
   "metadata": {},
   "outputs": [
    {
     "data": {
      "text/plain": [
       "['Boundary', 'Points', 'Breaklines', 'layer_styles']"
      ]
     },
     "execution_count": null,
     "metadata": {},
     "output_type": "execute_result"
    }
   ],
   "source": [
    "fiona.listlayers('../../testing/Bambi.gpkg')"
   ]
  },
  {
   "cell_type": "code",
   "execution_count": null,
   "metadata": {},
   "outputs": [
    {
     "name": "stdout",
     "output_type": "stream",
     "text": [
      "{'geometry': 'None',\n",
      " 'properties': {'description': 'str',\n",
      "                'f_geometry_column': 'str:256',\n",
      "                'f_table_catalog': 'str:256',\n",
      "                'f_table_name': 'str:256',\n",
      "                'f_table_schema': 'str:256',\n",
      "                'owner': 'str:30',\n",
      "                'styleName': 'str:30',\n",
      "                'styleQML': 'str',\n",
      "                'styleSLD': 'str',\n",
      "                'ui': 'str:30',\n",
      "                'update_time': 'datetime',\n",
      "                'useAsDefault': 'int'}}\n",
      "\n",
      "3\n"
     ]
    }
   ],
   "source": [
    "with fiona.open('../../testing/Bambi.gpkg', layer='layer_styles') as source:\n",
    "    pprint(source.schema)\n",
    "    print()\n",
    "    print(len(source))\n",
    "    for item in source:\n",
    "        props = dict(item.properties)\n",
    "        #pprint(props)"
   ]
  },
  {
   "cell_type": "code",
   "execution_count": null,
   "metadata": {},
   "outputs": [
    {
     "name": "stdout",
     "output_type": "stream",
     "text": [
      "39.81252590392752\n",
      "\n",
      "CPU times: user 856 ms, sys: 27.8 ms, total: 883 ms\n",
      "Wall time: 868 ms\n"
     ]
    }
   ],
   "source": [
    "%%time\n",
    "print(bambi.boundary_estimate(perc=95))\n",
    "print()"
   ]
  },
  {
   "cell_type": "code",
   "execution_count": null,
   "metadata": {},
   "outputs": [
    {
     "name": "stdout",
     "output_type": "stream",
     "text": [
      "CPU times: user 1.09 s, sys: 3 µs, total: 1.09 s\n",
      "Wall time: 1.2 s\n"
     ]
    }
   ],
   "source": [
    "%%time\n",
    "\n",
    "bambi.boundary(60)"
   ]
  },
  {
   "cell_type": "code",
   "execution_count": null,
   "metadata": {},
   "outputs": [
    {
     "name": "stdout",
     "output_type": "stream",
     "text": [
      "Points:     (-65836.813, -2813039.956, 1262.645)\n",
      "Boundary:   (-67751.364, -2809588.9, 1232.729)\n",
      "Breaklines: (-64790.526, -2817014.633)\n"
     ]
    }
   ],
   "source": [
    "with fiona.open(bambi.surface, layer='Points') as source:\n",
    "    for feat in source:\n",
    "        geom = shape(feat.geometry)\n",
    "        coords = list(geom.coords)\n",
    "        print('Points:    ',coords[0])\n",
    "        break\n",
    "\n",
    "with fiona.open(bambi.surface, layer='Boundary') as source:\n",
    "    for feat in source:\n",
    "        geom = shape(feat.geometry)\n",
    "        coords = list(geom.exterior.coords)\n",
    "        print('Boundary:  ',coords[0])\n",
    "        break\n",
    "\n",
    "with fiona.open(bambi.surface, layer='Breaklines') as source:\n",
    "    for feat in source:\n",
    "        geom = shape(feat.geometry)\n",
    "        coords = list(geom.coords)\n",
    "        print('Breaklines:',coords[0])\n",
    "        break"
   ]
  },
  {
   "cell_type": "code",
   "execution_count": null,
   "metadata": {},
   "outputs": [],
   "source": [
    "#| hide\n",
    "import nbdev; nbdev.nbdev_export()"
   ]
  },
  {
   "cell_type": "code",
   "execution_count": null,
   "metadata": {},
   "outputs": [],
   "source": []
  }
 ],
 "metadata": {
  "kernelspec": {
   "display_name": "python3",
   "language": "python",
   "name": "python3"
  }
 },
 "nbformat": 4,
 "nbformat_minor": 4
}
